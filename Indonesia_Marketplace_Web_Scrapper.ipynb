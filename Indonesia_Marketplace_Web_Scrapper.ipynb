{
  "nbformat": 4,
  "nbformat_minor": 0,
  "metadata": {
    "colab": {
      "name": "Indonesia Marketplace Web Scrapper.ipynb",
      "provenance": [],
      "toc_visible": true
    },
    "kernelspec": {
      "name": "python3",
      "display_name": "Python 3"
    },
    "language_info": {
      "name": "python"
    }
  },
  "cells": [
    {
      "cell_type": "markdown",
      "metadata": {
        "id": "yxUrH0-f2169"
      },
      "source": [
        "### Preparations"
      ]
    },
    {
      "cell_type": "code",
      "metadata": {
        "colab": {
          "base_uri": "https://localhost:8080/"
        },
        "id": "Tgv6LTCh5FEK",
        "outputId": "e8c1b0da-aa1d-47de-c6a4-6e954a785fcb"
      },
      "source": [
        "pip install scrapingant-client"
      ],
      "execution_count": 58,
      "outputs": [
        {
          "output_type": "stream",
          "text": [
            "Requirement already satisfied: scrapingant-client in /usr/local/lib/python3.7/dist-packages (0.3.4)\n",
            "Requirement already satisfied: requests<3,>=2 in /usr/local/lib/python3.7/dist-packages (from scrapingant-client) (2.23.0)\n",
            "Requirement already satisfied: chardet<4,>=3.0.2 in /usr/local/lib/python3.7/dist-packages (from requests<3,>=2->scrapingant-client) (3.0.4)\n",
            "Requirement already satisfied: idna<3,>=2.5 in /usr/local/lib/python3.7/dist-packages (from requests<3,>=2->scrapingant-client) (2.10)\n",
            "Requirement already satisfied: urllib3!=1.25.0,!=1.25.1,<1.26,>=1.21.1 in /usr/local/lib/python3.7/dist-packages (from requests<3,>=2->scrapingant-client) (1.24.3)\n",
            "Requirement already satisfied: certifi>=2017.4.17 in /usr/local/lib/python3.7/dist-packages (from requests<3,>=2->scrapingant-client) (2020.12.5)\n"
          ],
          "name": "stdout"
        }
      ]
    },
    {
      "cell_type": "code",
      "metadata": {
        "id": "GCbNQlsEF-_7"
      },
      "source": [
        "from bs4 import BeautifulSoup\n",
        "from scrapingant_client import ScrapingAntClient\n",
        "import pprint\n",
        "import pandas as pd"
      ],
      "execution_count": 59,
      "outputs": []
    },
    {
      "cell_type": "code",
      "metadata": {
        "id": "FSBgWOKsRn3B"
      },
      "source": [
        "total_results = []\n",
        "search_results = []"
      ],
      "execution_count": 60,
      "outputs": []
    },
    {
      "cell_type": "code",
      "metadata": {
        "id": "KQbLQbDk2sdi"
      },
      "source": [
        "scraping_token = '3c886402993c4c808448448877f7ed9e'"
      ],
      "execution_count": 61,
      "outputs": []
    },
    {
      "cell_type": "markdown",
      "metadata": {
        "id": "MD6rNjaT9k_P"
      },
      "source": [
        "### Shopee"
      ]
    },
    {
      "cell_type": "code",
      "metadata": {
        "id": "vbLsyhbK7PEE"
      },
      "source": [
        "def get_shopee_result(query):\n",
        "  processed_query = query.replace(' ', '%20').replace('&', '%26')\n",
        "  url = f\"https://shopee.co.id/search?keyword={processed_query}&ratingFilter=5\"\n",
        "  client = ScrapingAntClient(token=scraping_token)\n",
        "\n",
        "  try:\n",
        "    page_content = client.general_request(url).content\n",
        "  except:\n",
        "    return\n",
        "\n",
        "  soup = BeautifulSoup(page_content)\n",
        "\n",
        "  contents = soup.find_all('div', {\"class\": \"shopee-search-item-result__item\"})\n",
        "\n",
        "  extracted_contents = []\n",
        "\n",
        "  for content in contents:\n",
        "    try:\n",
        "      if len(content.find_all(\"img\")) < 1:\n",
        "        break\n",
        "      extracted_content = {\n",
        "        'image': \"\",\n",
        "        'title': content.find(\"div\", {\"class\", \"yQmmFK _1POlWt _36CEnF\"}).text,\n",
        "        'url': f\"https://shopee.co.id{content.find('a')['href']}\",\n",
        "        'price': int(content.find('span', {\"class\", \"_29R_un\"}).text.replace('.','')),\n",
        "        'source': 'shopee',\n",
        "        'rating': float(5.0),\n",
        "        'category': query\n",
        "      }\n",
        "      extracted_contents.append(extracted_content)\n",
        "      search_results.append(extracted_content)\n",
        "    except:\n",
        "      continue\n",
        "  \n",
        "  return extracted_contents\n",
        "\n",
        "# pprint.pprint(get_shopee_result('mixer'))"
      ],
      "execution_count": 62,
      "outputs": []
    },
    {
      "cell_type": "markdown",
      "metadata": {
        "id": "DcoE4Him-mbE"
      },
      "source": [
        "### Tokopedia"
      ]
    },
    {
      "cell_type": "code",
      "metadata": {
        "id": "XbhLlLJ7-lUd"
      },
      "source": [
        "def get_tokopedia_result(query):\n",
        "  processed_query = query.replace(' ', '%20').replace('&', '%26')\n",
        "  url = f\"https://www.tokopedia.com/search?st=product&q={processed_query}&navsource=home\"\n",
        "  client = ScrapingAntClient(token=scraping_token)\n",
        "\n",
        "  try:\n",
        "    page_content = client.general_request(url).content\n",
        "  except:\n",
        "    return\n",
        "\n",
        "  soup = BeautifulSoup(page_content)\n",
        "\n",
        "  contents = soup.find_all('div', {\"class\": \"css-12sieg3\"})\n",
        "\n",
        "  extracted_contents = []\n",
        "\n",
        "  image_boilerplate = 'data:image/png;base64,iVBORw0KGgoAAAANSUhEUgAAAHgAAAB4CAQAAACTbf5ZAAAAiklEQVR42u3PMQEAAAwCoNm/9Cr4Cw3IjYmwsLCwsLCwsLCwsLCwsLCwsLCwsLCwsLCwsLCwsLCwsLCwsLCwsLCwsLCwsLCwsLCwsLCwsLCwsLCwsLCwsLCwsLCwsLCwsLCwsLCwsLCwsLCwsLCwsLCwsLCwsLCwsLCwsLCwsLCwsLCwsLCwsHDrASUpAHnJhbktAAAAAElFTkSuQmCC'\n",
        "\n",
        "  for content in contents:\n",
        "    try:\n",
        "      if len(content.find_all(\"img\")) < 1:\n",
        "        break\n",
        "      if 'ta.tokopedia.com/promo/v1' in content.find('a')['href']:\n",
        "        continue\n",
        "      extracted_content = {\n",
        "        'image': content.find_all(\"img\")[0]['src'] if len(content.find_all(\"img\")) >= 1 and content.find_all(\"img\")[0]['src'] != image_boilerplate else \"\",\n",
        "        'title': content.find(\"div\", {\"class\", \"css-18c4yhp\"}).text,\n",
        "        'url': content.find('a')['href'],\n",
        "        'price': int(content.find('div', {\"class\", \"css-rhd610\"}).text.split('Rp')[1].replace('.','').split(' ')[0]),\n",
        "        'source': 'tokopedia',\n",
        "        'rating': float(content.find('span', {\"class\", \"css-etd83i\"}).text if content.find('span', {\"class\", \"css-etd83i\"}).text != None else 0),\n",
        "        'category': query\n",
        "      }\n",
        "      extracted_contents.append(extracted_content)\n",
        "      search_results.append(extracted_content)\n",
        "    except:\n",
        "      continue\n",
        "\n",
        "  return extracted_contents\n",
        "\n",
        "# pprint.pprint(get_tokopedia_result('mixer'))"
      ],
      "execution_count": 63,
      "outputs": []
    },
    {
      "cell_type": "markdown",
      "metadata": {
        "id": "Ot1eSAZitxZp"
      },
      "source": [
        "### Blibli"
      ]
    },
    {
      "cell_type": "code",
      "metadata": {
        "id": "7mpip0TCgOfV"
      },
      "source": [
        "def get_blibli_result(query):\n",
        "  processed_query = query.replace(' ', '%20').replace('&', '%26')\n",
        "  url = f\"https://www.blibli.com/cari/{processed_query}\"\n",
        "  client = ScrapingAntClient(token=scraping_token)\n",
        "\n",
        "  try:\n",
        "    page_content = client.general_request(url).content\n",
        "  except:\n",
        "    return\n",
        "\n",
        "  soup = BeautifulSoup(page_content)\n",
        "\n",
        "  contents = soup.find_all('div', {\"class\": \"product__card product__card__five\"})\n",
        "\n",
        "  extracted_contents = []\n",
        "\n",
        "  image_boilerplate = 'https://www.static-src.com/frontend/catalog/static/img/img-placeholder.76652f6.png'\n",
        "\n",
        "  for content in contents:\n",
        "    try:\n",
        "      if len(content.find_all(\"img\")) < 1:\n",
        "        break\n",
        "      extracted_content = {\n",
        "        'image': content.find_all(\"img\")[1]['src'] if len(content.find_all(\"img\")) >= 1 and content.find_all(\"img\")[1]['src'] != image_boilerplate else \"\",\n",
        "        'title': content.find(\"div\", {\"class\", \"product__title\"})['title'],\n",
        "        'url': f\"https://www.blibli.com{content.find('a')['href']}\",\n",
        "        'price': int(content.find('strong', {\"class\", \"product__body__price__display\"}).text.split('Rp')[1].split('\\n')[0].replace('.','')),\n",
        "        'source': 'blibli',\n",
        "        'rating': float(content.find('span', {\"class\", \"product__body__rating__stars__rating\"}).text if content.find('span', {\"class\", \"product__body__rating__stars__rating\"}).text != None else 0),\n",
        "        'category': query\n",
        "      }\n",
        "      extracted_contents.append(extracted_content)\n",
        "      search_results.append(extracted_content)\n",
        "    except:\n",
        "      continue\n",
        "\n",
        "  return extracted_contents\n",
        "\n",
        "# pprint.pprint(get_blibli_result('mixer'))"
      ],
      "execution_count": 64,
      "outputs": []
    },
    {
      "cell_type": "markdown",
      "metadata": {
        "id": "z91vchaVtuGm"
      },
      "source": [
        "### JD.ID"
      ]
    },
    {
      "cell_type": "code",
      "metadata": {
        "id": "JsRdanJbtti4"
      },
      "source": [
        "def get_jdid_result(query):\n",
        "  processed_query = query.replace(' ', '%20').replace('&', '%26')\n",
        "  url = f\"https://www.jd.id/search?keywords={processed_query}\"\n",
        "  client = ScrapingAntClient(token=scraping_token)\n",
        "\n",
        "  try:\n",
        "    page_content = client.general_request(url).content\n",
        "  except:\n",
        "    return\n",
        "\n",
        "  soup = BeautifulSoup(page_content)\n",
        "\n",
        "  contents = soup.find_all('a', {\"class\": \"sku-info\"})\n",
        "\n",
        "  extracted_contents = []\n",
        "\n",
        "  image_boilerplate = 'st.3.cn/ept/1.0.0/ui/css/i/blank.gif'\n",
        "\n",
        "  for content in contents:\n",
        "    try:\n",
        "      if len(content.find_all(\"img\")) < 1:\n",
        "        break\n",
        "      extracted_content = {\n",
        "        'image': content.find_all(\"img\")[0]['src'].split('//')[1] if len(content.find_all(\"img\")) >= 1 and content.find_all(\"img\")[0]['src'].split('//')[1] != image_boilerplate else \"\",\n",
        "        'title': content.find(\"div\", {\"class\", \"p-name\"})['title'],\n",
        "        'url': f\"https://{content['href'].split('//')[1]}\",\n",
        "        'price': int(content.find('div', {\"class\", \"p-price-zj\"}).text.split('Rp ')[1].replace(',','')),\n",
        "        'source': 'jdid',\n",
        "        'rating': float(len(content.find_all('i', {\"class\", \"rate-star rate-star-full\"}))),\n",
        "        'category': query\n",
        "      }\n",
        "      extracted_contents.append(extracted_content)\n",
        "      search_results.append(extracted_content)\n",
        "    except:\n",
        "      continue\n",
        "  \n",
        "  return extracted_contents\n",
        "\n",
        "# pprint.pprint(get_jdid_result('mixer'))"
      ],
      "execution_count": 65,
      "outputs": []
    },
    {
      "cell_type": "markdown",
      "metadata": {
        "id": "NQKwDD1lxqiO"
      },
      "source": [
        "### Lazada"
      ]
    },
    {
      "cell_type": "code",
      "metadata": {
        "id": "MW0bvlWqxtEt"
      },
      "source": [
        "def get_lazada_result(query):\n",
        "  processed_query = query.replace(' ', '+').replace('&', '%26')\n",
        "  url = f\"https://www.lazada.co.id/catalog/?q={processed_query}\"\n",
        "  client = ScrapingAntClient(token=scraping_token)\n",
        "\n",
        "  try:\n",
        "    page_content = client.general_request(url).content\n",
        "  except:\n",
        "    return\n",
        "\n",
        "  soup = BeautifulSoup(page_content)\n",
        "\n",
        "  contents = soup.find_all('div', {\"class\": \"c3e8SH\"})\n",
        "  \n",
        "  extracted_contents = []\n",
        "\n",
        "  for content in contents:\n",
        "    try:\n",
        "      extracted_content = {\n",
        "        'image': content.find_all(\"img\")[0]['src'] if len(content.find_all(\"img\")) >= 1 else \"\",\n",
        "        'title': content.find(\"div\", {\"class\", \"c16H9d\"}).find(\"a\")['title'],\n",
        "        'url': 'https:' + content.find(\"div\", {\"class\", \"c16H9d\"}).find(\"a\")['href'],\n",
        "        'price': int(content.find(\"span\", {\"class\", \"c13VH6\"}).text.split('Rp')[1].split('\\n')[0].replace('.','')),\n",
        "        'source': 'bukalapak',\n",
        "        'rating': float(len(content.find_all('i', {\"class\", \"c3dn4k c3EEAg\"}))),\n",
        "        'category': query\n",
        "      }\n",
        "      extracted_contents.append(extracted_content)\n",
        "      search_results.append(extracted_content)\n",
        "    except:\n",
        "      continue\n",
        "\n",
        "  return extracted_contents\n",
        "\n",
        "# pprint.pprint(get_lazada_result('mixer'))"
      ],
      "execution_count": 66,
      "outputs": []
    },
    {
      "cell_type": "markdown",
      "metadata": {
        "id": "Rj0JBsVVCKex"
      },
      "source": [
        "### Bukalapak"
      ]
    },
    {
      "cell_type": "code",
      "metadata": {
        "id": "KfBbnQBzCKCd"
      },
      "source": [
        "def get_bukalapak_result(query):\n",
        "  processed_query = query.replace(' ', '%20').replace('&', '%26')\n",
        "  url = f\"https://www.bukalapak.com/products?search%5Bkeywords%5D={processed_query}\"\n",
        "  client = ScrapingAntClient(token=scraping_token)\n",
        "\n",
        "  try:\n",
        "    page_content = client.general_request(url).content\n",
        "  except:\n",
        "    return\n",
        "\n",
        "  soup = BeautifulSoup(page_content)\n",
        "\n",
        "  contents = soup.find_all('div', {\"class\": \"bl-product-card__wrapper\"})\n",
        "  \n",
        "  extracted_contents = []\n",
        "\n",
        "  for content in contents:\n",
        "    try:\n",
        "      extracted_content = {\n",
        "        'image': content.find_all(\"img\")[0]['src'] if len(content.find_all(\"img\")) >= 1 else \"\",\n",
        "        'title': content.find(\"div\", {\"class\", \"bl-product-card__description-name\"}).find(\"p\").find(\"a\").text,\n",
        "        'url': content.find(\"div\", {\"class\", \"bl-product-card__description-name\"}).find(\"p\").find(\"a\")['href'],\n",
        "        'price': int(content.find(\"div\", {\"class\", \"bl-product-card__description-price\"}).find(\"p\").text.split('Rp')[1].split('\\n')[0].replace('.','')),\n",
        "        'source': 'bukalapak',\n",
        "        'rating': float(content.find('div', {\"class\", \"bl-product-card__description-rating\"}).text if content.find('div', {\"class\", \"bl-product-card__description-rating\"}).text != None else 0),\n",
        "        'category': query\n",
        "      }\n",
        "      extracted_contents.append(extracted_content)\n",
        "      search_results.append(extracted_content)\n",
        "    except:\n",
        "      continue\n",
        "\n",
        "  return extracted_contents\n",
        "\n",
        "# pprint.pprint(get_bukalapak_result('mixer'))"
      ],
      "execution_count": 67,
      "outputs": []
    },
    {
      "cell_type": "markdown",
      "metadata": {
        "id": "Y3TKqwmCWRvp"
      },
      "source": [
        "### Multithread Scrapper"
      ]
    },
    {
      "cell_type": "code",
      "metadata": {
        "id": "h_2Y3UbSLImy"
      },
      "source": [
        "import numpy as np\n",
        "import time\n",
        "import threading\n",
        "import math\n",
        "\n",
        "def scrape_topic(query):\n",
        "  start_time = time.time()\n",
        "  search_results.clear()\n",
        "  thread_list = []\n",
        "\n",
        "  thread_list.append(threading.Thread(target=get_tokopedia_result, args=(query,)))\n",
        "  thread_list.append(threading.Thread(target=get_shopee_result, args=(query,)))\n",
        "  thread_list.append(threading.Thread(target=get_blibli_result, args=(query,)))\n",
        "  thread_list.append(threading.Thread(target=get_jdid_result, args=(query,)))\n",
        "  thread_list.append(threading.Thread(target=get_lazada_result, args=(query,)))\n",
        "  thread_list.append(threading.Thread(target=get_bukalapak_result, args=(query,)))\n",
        "\n",
        "  for thread in thread_list:\n",
        "      thread.start()\n",
        "\n",
        "  for thread in thread_list:\n",
        "      thread.join()\n",
        "\n",
        "  end_time = time.time()\n",
        "\n",
        "  total_results.extend(search_results)\n",
        "\n",
        "  return f\"Topic: '{query}' -- Result: {len(search_results)} items -- Time taken: {str(end_time - start_time)} sec\""
      ],
      "execution_count": 68,
      "outputs": []
    },
    {
      "cell_type": "markdown",
      "metadata": {
        "id": "_sBiypExVMED"
      },
      "source": [
        "### Execute Web Scraping"
      ]
    },
    {
      "cell_type": "code",
      "metadata": {
        "colab": {
          "base_uri": "https://localhost:8080/"
        },
        "id": "Hqyd19oaUMi-",
        "outputId": "0937e704-f5a6-4273-c266-aca6c5bfcd52"
      },
      "source": [
        "list_of_topics = [\n",
        "                  'Alat Pemotong Serbaguna',\n",
        "                  'Capit Makanan',\n",
        "                  'Celemek',\n",
        "                  'Chopper',\n",
        "                  'Grinder',\n",
        "                  'Gunting Dapur',\n",
        "                  'Korek Kompor',\n",
        "                  'Parutan',\n",
        "                  'Peeler',\n",
        "                  'Pelindung Tangan',\n",
        "                  'Pengasah Pisau',\n",
        "                  'Pisau Dapur',\n",
        "                  'Pisau Set',\n",
        "                  'Talenan',\n",
        "                  'Tatakan Gas',\n",
        "                  'Termometer Makanan &',\n",
        "                  'Minuman',\n",
        "                  'Timer Masak',\n",
        "                  'Coffee & Tea Maker',\n",
        "                  'Cotton Candy Maker',\n",
        "                  'Donut Maker',\n",
        "                  'Ice Cream & Yoghurt Maker',\n",
        "                  'Botol Minum',\n",
        "                  'Cetakan Bento',\n",
        "                  'Cup Bento',\n",
        "                  'Kotak Makan',\n",
        "                  'Lunch Box Set',\n",
        "                  'Rantang',\n",
        "                  'Tas Bekal',\n",
        "                  'Tas Botol',\n",
        "                  'Termos Air',\n",
        "                  'Blender',\n",
        "                  'Juicer',\n",
        "                  'Kompor Listrik',\n",
        "                  'Kulkas',\n",
        "                  'Microwave',\n",
        "                  'Mixer',\n",
        "                  'Oven',\n",
        "                  'Rice Cooker',\n",
        "                  'Slow Cooker',\n",
        "                  'Toaster',\n",
        "                  'Alumunium Foil',\n",
        "                  'Box Telur',\n",
        "                  'Cooler Box',\n",
        "                  'Food Display',\n",
        "                  'Food Warmer',\n",
        "                  'Ice Bucket',\n",
        "                  'Plastic Wrap',\n",
        "                  'Sealer Makanan',\n",
        "                  'Tempat Buah & Sayur',\n",
        "                  'Tempat Bumbu',\n",
        "                  'Tempat Roti',\n",
        "                  'Alat Pembuka Botol',\n",
        "                  'Alat Pembuka Kaleng',\n",
        "                  'Dispenser Air',\n",
        "                  'Pompa Galon',\n",
        "                  'Rak Dapur',\n",
        "                  'Rak Piring',\n",
        "                  'Regulator & Penghemat Gas',\n",
        "                  'Sarung Galon',\n",
        "                  'Sarung Kulkas',\n",
        "                  'Timbangan Dapur',\n",
        "                  'Water Purifier',\n",
        "                  'Cangkir',\n",
        "                  'Gelas & Mug',\n",
        "                  'Gelas Wine',\n",
        "                  'Nampan',\n",
        "                  'Peralatan Makan Set',\n",
        "                  'Peralatan Minum Set',\n",
        "                  'Piring Makan',\n",
        "                  'Piring & Mangkok Saji',\n",
        "                  'Pitcher Minuman',\n",
        "                  'Sedotan',\n",
        "                  'Sendok & Garpu Makan',\n",
        "                  'Cetakan Es & Pudding',\n",
        "                  'Deep Fryer',\n",
        "                  'Gelas Takar',\n",
        "                  'Gilingan Daging',\n",
        "                  'Griller',\n",
        "                  'Kompor',\n",
        "                  'Panci',\n",
        "                  'Saringan Masak',\n",
        "                  'Sendok Takar',\n",
        "                  'Spatula & Sutil',\n",
        "                  'Steamer',\n",
        "                  'Dish Dryer',\n",
        "                  'Sabut',\n",
        "                  'Saringan Cuci Piring',\n",
        "                  'Sikat Cuci Botol',\n",
        "                  'Sponge Cuci Piring',\n",
        "                  'Kursi Bar',\n",
        "                  'Kursi Makan Outdoor',\n",
        "                  'Kursi Ruang Makan',\n",
        "                  'Meja Bar',\n",
        "                  'Meja Makan Outdoor',\n",
        "                  'Meja Ruang Makan'\n",
        "                  ]\n",
        "\n",
        "for index, topic in enumerate(list_of_topics, start=1):\n",
        "  log_message = scrape_topic(topic)\n",
        "  print(f\"[{index}/{len(list_of_topics)}] {log_message}\")"
      ],
      "execution_count": 69,
      "outputs": [
        {
          "output_type": "stream",
          "text": [
            "[1/96] Topic: 'Alat Pemotong Serbaguna' -- Result: 138 items -- Time taken: 27.137378215789795 sec\n",
            "[2/96] Topic: 'Capit Makanan' -- Result: 165 items -- Time taken: 26.931535720825195 sec\n",
            "[3/96] Topic: 'Celemek' -- Result: 144 items -- Time taken: 26.90737748146057 sec\n",
            "[4/96] Topic: 'Chopper' -- Result: 143 items -- Time taken: 27.597044706344604 sec\n",
            "[5/96] Topic: 'Grinder' -- Result: 191 items -- Time taken: 27.621601343154907 sec\n",
            "[6/96] Topic: 'Gunting Dapur' -- Result: 170 items -- Time taken: 26.46969699859619 sec\n",
            "[7/96] Topic: 'Korek Kompor' -- Result: 141 items -- Time taken: 27.385072231292725 sec\n",
            "[8/96] Topic: 'Parutan' -- Result: 143 items -- Time taken: 18.816741466522217 sec\n",
            "[9/96] Topic: 'Peeler' -- Result: 151 items -- Time taken: 26.825501918792725 sec\n",
            "[10/96] Topic: 'Pelindung Tangan' -- Result: 136 items -- Time taken: 27.0272798538208 sec\n",
            "[11/96] Topic: 'Pengasah Pisau' -- Result: 142 items -- Time taken: 27.337297201156616 sec\n",
            "[12/96] Topic: 'Pisau Dapur' -- Result: 182 items -- Time taken: 27.16270899772644 sec\n",
            "[13/96] Topic: 'Pisau Set' -- Result: 143 items -- Time taken: 27.653262853622437 sec\n",
            "[14/96] Topic: 'Talenan' -- Result: 141 items -- Time taken: 26.708979845046997 sec\n",
            "[15/96] Topic: 'Tatakan Gas' -- Result: 142 items -- Time taken: 26.814558029174805 sec\n",
            "[16/96] Topic: 'Termometer Makanan &' -- Result: 132 items -- Time taken: 26.730214595794678 sec\n",
            "[17/96] Topic: 'Minuman' -- Result: 186 items -- Time taken: 27.935418605804443 sec\n",
            "[18/96] Topic: 'Timer Masak' -- Result: 132 items -- Time taken: 26.76161217689514 sec\n",
            "[19/96] Topic: 'Coffee & Tea Maker' -- Result: 131 items -- Time taken: 26.835167169570923 sec\n",
            "[20/96] Topic: 'Cotton Candy Maker' -- Result: 92 items -- Time taken: 27.2241051197052 sec\n",
            "[21/96] Topic: 'Donut Maker' -- Result: 132 items -- Time taken: 26.837981700897217 sec\n",
            "[22/96] Topic: 'Ice Cream & Yoghurt Maker' -- Result: 60 items -- Time taken: 26.927837371826172 sec\n",
            "[23/96] Topic: 'Botol Minum' -- Result: 189 items -- Time taken: 27.042337656021118 sec\n",
            "[24/96] Topic: 'Cetakan Bento' -- Result: 160 items -- Time taken: 26.62286686897278 sec\n",
            "[25/96] Topic: 'Cup Bento' -- Result: 120 items -- Time taken: 17.38226866722107 sec\n",
            "[26/96] Topic: 'Kotak Makan' -- Result: 140 items -- Time taken: 27.230353116989136 sec\n",
            "[27/96] Topic: 'Lunch Box Set' -- Result: 134 items -- Time taken: 26.85526132583618 sec\n",
            "[28/96] Topic: 'Rantang' -- Result: 138 items -- Time taken: 26.816673278808594 sec\n",
            "[29/96] Topic: 'Tas Bekal' -- Result: 173 items -- Time taken: 27.119125843048096 sec\n",
            "[30/96] Topic: 'Tas Botol' -- Result: 131 items -- Time taken: 26.91770315170288 sec\n",
            "[31/96] Topic: 'Termos Air' -- Result: 140 items -- Time taken: 26.810797452926636 sec\n",
            "[32/96] Topic: 'Blender' -- Result: 182 items -- Time taken: 27.60532832145691 sec\n",
            "[33/96] Topic: 'Juicer' -- Result: 141 items -- Time taken: 27.682217359542847 sec\n",
            "[34/96] Topic: 'Kompor Listrik' -- Result: 149 items -- Time taken: 27.07028102874756 sec\n",
            "[35/96] Topic: 'Kulkas' -- Result: 130 items -- Time taken: 21.949582815170288 sec\n",
            "[36/96] Topic: 'Microwave' -- Result: 152 items -- Time taken: 27.056281328201294 sec\n",
            "[37/96] Topic: 'Mixer' -- Result: 144 items -- Time taken: 27.101490259170532 sec\n",
            "[38/96] Topic: 'Oven' -- Result: 137 items -- Time taken: 26.87360715866089 sec\n",
            "[39/96] Topic: 'Rice Cooker' -- Result: 123 items -- Time taken: 27.525856018066406 sec\n",
            "[40/96] Topic: 'Slow Cooker' -- Result: 139 items -- Time taken: 27.083773851394653 sec\n",
            "[41/96] Topic: 'Toaster' -- Result: 182 items -- Time taken: 27.02303385734558 sec\n",
            "[42/96] Topic: 'Alumunium Foil' -- Result: 146 items -- Time taken: 27.25512933731079 sec\n",
            "[43/96] Topic: 'Box Telur' -- Result: 141 items -- Time taken: 26.936675548553467 sec\n",
            "[44/96] Topic: 'Cooler Box' -- Result: 140 items -- Time taken: 26.921056509017944 sec\n",
            "[45/96] Topic: 'Food Display' -- Result: 132 items -- Time taken: 17.20366406440735 sec\n",
            "[46/96] Topic: 'Food Warmer' -- Result: 130 items -- Time taken: 26.918620586395264 sec\n",
            "[47/96] Topic: 'Ice Bucket' -- Result: 118 items -- Time taken: 27.012696504592896 sec\n",
            "[48/96] Topic: 'Plastic Wrap' -- Result: 141 items -- Time taken: 26.86616063117981 sec\n",
            "[49/96] Topic: 'Sealer Makanan' -- Result: 132 items -- Time taken: 26.87341046333313 sec\n",
            "[50/96] Topic: 'Tempat Buah & Sayur' -- Result: 131 items -- Time taken: 26.843099117279053 sec\n",
            "[51/96] Topic: 'Tempat Bumbu' -- Result: 130 items -- Time taken: 26.40289068222046 sec\n",
            "[52/96] Topic: 'Tempat Roti' -- Result: 138 items -- Time taken: 27.003520011901855 sec\n",
            "[53/96] Topic: 'Alat Pembuka Botol' -- Result: 135 items -- Time taken: 26.81039071083069 sec\n",
            "[54/96] Topic: 'Alat Pembuka Kaleng' -- Result: 136 items -- Time taken: 26.733335494995117 sec\n",
            "[55/96] Topic: 'Dispenser Air' -- Result: 130 items -- Time taken: 26.402936697006226 sec\n",
            "[56/96] Topic: 'Pompa Galon' -- Result: 165 items -- Time taken: 26.8772611618042 sec\n",
            "[57/96] Topic: 'Rak Dapur' -- Result: 136 items -- Time taken: 26.799219608306885 sec\n",
            "[58/96] Topic: 'Rak Piring' -- Result: 138 items -- Time taken: 26.801883935928345 sec\n",
            "[59/96] Topic: 'Regulator & Penghemat Gas' -- Result: 130 items -- Time taken: 26.71505355834961 sec\n",
            "[60/96] Topic: 'Sarung Galon' -- Result: 169 items -- Time taken: 26.7974693775177 sec\n",
            "[61/96] Topic: 'Sarung Kulkas' -- Result: 148 items -- Time taken: 26.610294580459595 sec\n",
            "[62/96] Topic: 'Timbangan Dapur' -- Result: 144 items -- Time taken: 24.767691373825073 sec\n",
            "[63/96] Topic: 'Water Purifier' -- Result: 137 items -- Time taken: 26.92246389389038 sec\n",
            "[64/96] Topic: 'Cangkir' -- Result: 142 items -- Time taken: 26.793237447738647 sec\n",
            "[65/96] Topic: 'Gelas & Mug' -- Result: 164 items -- Time taken: 26.723563194274902 sec\n",
            "[66/96] Topic: 'Gelas Wine' -- Result: 130 items -- Time taken: 26.707413911819458 sec\n",
            "[67/96] Topic: 'Nampan' -- Result: 167 items -- Time taken: 26.402549028396606 sec\n",
            "[68/96] Topic: 'Peralatan Makan Set' -- Result: 192 items -- Time taken: 27.52480912208557 sec\n",
            "[69/96] Topic: 'Peralatan Minum Set' -- Result: 134 items -- Time taken: 26.786725521087646 sec\n",
            "[70/96] Topic: 'Piring Makan' -- Result: 142 items -- Time taken: 27.016590356826782 sec\n",
            "[71/96] Topic: 'Piring & Mangkok Saji' -- Result: 130 items -- Time taken: 26.842689752578735 sec\n",
            "[72/96] Topic: 'Pitcher Minuman' -- Result: 130 items -- Time taken: 26.867136240005493 sec\n",
            "[73/96] Topic: 'Sedotan' -- Result: 173 items -- Time taken: 26.67669653892517 sec\n",
            "[74/96] Topic: 'Sendok & Garpu Makan' -- Result: 134 items -- Time taken: 27.014512062072754 sec\n",
            "[75/96] Topic: 'Cetakan Es & Pudding' -- Result: 70 items -- Time taken: 26.711287021636963 sec\n",
            "[76/96] Topic: 'Deep Fryer' -- Result: 176 items -- Time taken: 26.78731870651245 sec\n",
            "[77/96] Topic: 'Gelas Takar' -- Result: 186 items -- Time taken: 26.949855089187622 sec\n",
            "[78/96] Topic: 'Gilingan Daging' -- Result: 146 items -- Time taken: 27.09749150276184 sec\n",
            "[79/96] Topic: 'Griller' -- Result: 149 items -- Time taken: 26.83124089241028 sec\n",
            "[80/96] Topic: 'Kompor' -- Result: 130 items -- Time taken: 26.47899866104126 sec\n",
            "[81/96] Topic: 'Panci' -- Result: 139 items -- Time taken: 26.850494623184204 sec\n",
            "[82/96] Topic: 'Saringan Masak' -- Result: 133 items -- Time taken: 26.816599130630493 sec\n",
            "[83/96] Topic: 'Sendok Takar' -- Result: 146 items -- Time taken: 27.05525803565979 sec\n",
            "[84/96] Topic: 'Spatula & Sutil' -- Result: 139 items -- Time taken: 27.21700143814087 sec\n",
            "[85/96] Topic: 'Steamer' -- Result: 138 items -- Time taken: 26.92193627357483 sec\n",
            "[86/96] Topic: 'Dish Dryer' -- Result: 137 items -- Time taken: 27.232709169387817 sec\n",
            "[87/96] Topic: 'Sabut' -- Result: 147 items -- Time taken: 26.899834871292114 sec\n",
            "[88/96] Topic: 'Saringan Cuci Piring' -- Result: 142 items -- Time taken: 27.078075885772705 sec\n",
            "[89/96] Topic: 'Sikat Cuci Botol' -- Result: 137 items -- Time taken: 23.200811624526978 sec\n",
            "[90/96] Topic: 'Sponge Cuci Piring' -- Result: 180 items -- Time taken: 26.95623779296875 sec\n",
            "[91/96] Topic: 'Kursi Bar' -- Result: 142 items -- Time taken: 26.707473039627075 sec\n",
            "[92/96] Topic: 'Kursi Makan Outdoor' -- Result: 92 items -- Time taken: 26.398986101150513 sec\n",
            "[93/96] Topic: 'Kursi Ruang Makan' -- Result: 96 items -- Time taken: 27.020506381988525 sec\n",
            "[94/96] Topic: 'Meja Bar' -- Result: 115 items -- Time taken: 26.82198143005371 sec\n",
            "[95/96] Topic: 'Meja Makan Outdoor' -- Result: 94 items -- Time taken: 27.08100914955139 sec\n",
            "[96/96] Topic: 'Meja Ruang Makan' -- Result: 130 items -- Time taken: 27.10249948501587 sec\n"
          ],
          "name": "stdout"
        }
      ]
    },
    {
      "cell_type": "markdown",
      "metadata": {
        "id": "ehY2BECYgfrQ"
      },
      "source": [
        "### Clean Final Data"
      ]
    },
    {
      "cell_type": "code",
      "metadata": {
        "id": "YdO-KL-Tgdxg"
      },
      "source": [
        "import pandas as pd\n",
        "\n",
        "df = pd.DataFrame.from_records(total_results)\n",
        "\n",
        "df['title'] = df['title'].replace({'\\n ': ''}, regex=True)\n",
        "df['title'] = df['title'].replace({'  ': ''}, regex=True)\n",
        "\n",
        "df.loc[df.source != 'tokopedia', 'image'] = ''"
      ],
      "execution_count": 70,
      "outputs": []
    },
    {
      "cell_type": "markdown",
      "metadata": {
        "id": "N0-1lMwtVa6B"
      },
      "source": [
        "### Export to csv"
      ]
    },
    {
      "cell_type": "code",
      "metadata": {
        "colab": {
          "base_uri": "https://localhost:8080/",
          "height": 1000
        },
        "id": "x4qzxseBP63c",
        "outputId": "b003826c-a0ef-4e59-c93c-346044e6191f"
      },
      "source": [
        "df.to_csv('indonesia_marketplace_kitchenware.csv', index=False)\n",
        "\n",
        "df"
      ],
      "execution_count": 71,
      "outputs": [
        {
          "output_type": "execute_result",
          "data": {
            "text/html": [
              "<div>\n",
              "<style scoped>\n",
              "    .dataframe tbody tr th:only-of-type {\n",
              "        vertical-align: middle;\n",
              "    }\n",
              "\n",
              "    .dataframe tbody tr th {\n",
              "        vertical-align: top;\n",
              "    }\n",
              "\n",
              "    .dataframe thead th {\n",
              "        text-align: right;\n",
              "    }\n",
              "</style>\n",
              "<table border=\"1\" class=\"dataframe\">\n",
              "  <thead>\n",
              "    <tr style=\"text-align: right;\">\n",
              "      <th></th>\n",
              "      <th>image</th>\n",
              "      <th>title</th>\n",
              "      <th>url</th>\n",
              "      <th>price</th>\n",
              "      <th>source</th>\n",
              "      <th>rating</th>\n",
              "      <th>category</th>\n",
              "    </tr>\n",
              "  </thead>\n",
              "  <tbody>\n",
              "    <tr>\n",
              "      <th>0</th>\n",
              "      <td>https://images.tokopedia.net/img/cache/200-squ...</td>\n",
              "      <td>Stein Cookware Diamond Knifes Stein / Pisau Se...</td>\n",
              "      <td>https://www.tokopedia.com/belilagicoid/stein-c...</td>\n",
              "      <td>259000</td>\n",
              "      <td>tokopedia</td>\n",
              "      <td>5.0</td>\n",
              "      <td>Alat Pemotong Serbaguna</td>\n",
              "    </tr>\n",
              "    <tr>\n",
              "      <th>1</th>\n",
              "      <td>https://images.tokopedia.net/img/cache/200-squ...</td>\n",
              "      <td>Freemir Alat Pemotong Sayur Multifungsi Nicer ...</td>\n",
              "      <td>https://www.tokopedia.com/freemirofficial/free...</td>\n",
              "      <td>69900</td>\n",
              "      <td>tokopedia</td>\n",
              "      <td>4.8</td>\n",
              "      <td>Alat Pemotong Serbaguna</td>\n",
              "    </tr>\n",
              "    <tr>\n",
              "      <th>2</th>\n",
              "      <td>https://images.tokopedia.net/img/cache/200-squ...</td>\n",
              "      <td>ALAT PEMOTONG SAYURAN CUTTER GRATER 12 IN 1 SE...</td>\n",
              "      <td>https://www.tokopedia.com/orinocosmart/alat-pe...</td>\n",
              "      <td>51868</td>\n",
              "      <td>tokopedia</td>\n",
              "      <td>4.8</td>\n",
              "      <td>Alat Pemotong Serbaguna</td>\n",
              "    </tr>\n",
              "    <tr>\n",
              "      <th>3</th>\n",
              "      <td>https://images.tokopedia.net/img/cache/200-squ...</td>\n",
              "      <td>BOLDe SUPER CUT GRANDE 5 IN 1 [5 BLADES] FREE ...</td>\n",
              "      <td>https://www.tokopedia.com/verry-lie/bolde-supe...</td>\n",
              "      <td>72871</td>\n",
              "      <td>tokopedia</td>\n",
              "      <td>4.9</td>\n",
              "      <td>Alat Pemotong Serbaguna</td>\n",
              "    </tr>\n",
              "    <tr>\n",
              "      <th>4</th>\n",
              "      <td>https://images.tokopedia.net/img/cache/200-squ...</td>\n",
              "      <td>ALAT PEMOTONG KENTANG SAYUR/ PARUTAN / PEELER ...</td>\n",
              "      <td>https://www.tokopedia.com/limanjaya88/alat-pem...</td>\n",
              "      <td>38500</td>\n",
              "      <td>tokopedia</td>\n",
              "      <td>4.8</td>\n",
              "      <td>Alat Pemotong Serbaguna</td>\n",
              "    </tr>\n",
              "    <tr>\n",
              "      <th>...</th>\n",
              "      <td>...</td>\n",
              "      <td>...</td>\n",
              "      <td>...</td>\n",
              "      <td>...</td>\n",
              "      <td>...</td>\n",
              "      <td>...</td>\n",
              "      <td>...</td>\n",
              "    </tr>\n",
              "    <tr>\n",
              "      <th>13585</th>\n",
              "      <td></td>\n",
              "      <td>Taplak Meja Atau Table Runner Bahan Kain Kanva...</td>\n",
              "      <td>https://www.lazada.co.id/products/taplak-meja-...</td>\n",
              "      <td>37999</td>\n",
              "      <td>bukalapak</td>\n",
              "      <td>4.0</td>\n",
              "      <td>Meja Ruang Makan</td>\n",
              "    </tr>\n",
              "    <tr>\n",
              "      <th>13586</th>\n",
              "      <td></td>\n",
              "      <td>TAPLAK MEJA PERCANTIK MEJA RUANG TAMU MEJA MAK...</td>\n",
              "      <td>https://www.lazada.co.id/products/taplak-meja-...</td>\n",
              "      <td>6000</td>\n",
              "      <td>bukalapak</td>\n",
              "      <td>5.0</td>\n",
              "      <td>Meja Ruang Makan</td>\n",
              "    </tr>\n",
              "    <tr>\n",
              "      <th>13587</th>\n",
              "      <td></td>\n",
              "      <td>(BISA COD) TAPLAK MEJA PERSEGI PANJANG RUANG T...</td>\n",
              "      <td>https://www.lazada.co.id/products/bisa-cod-tap...</td>\n",
              "      <td>30667</td>\n",
              "      <td>bukalapak</td>\n",
              "      <td>2.0</td>\n",
              "      <td>Meja Ruang Makan</td>\n",
              "    </tr>\n",
              "    <tr>\n",
              "      <th>13588</th>\n",
              "      <td></td>\n",
              "      <td>MEJA LIPAT KAKI BESI 120 X 60 DIONA AVEDA</td>\n",
              "      <td>https://www.lazada.co.id/products/meja-lipat-k...</td>\n",
              "      <td>420000</td>\n",
              "      <td>bukalapak</td>\n",
              "      <td>5.0</td>\n",
              "      <td>Meja Ruang Makan</td>\n",
              "    </tr>\n",
              "    <tr>\n",
              "      <th>13589</th>\n",
              "      <td></td>\n",
              "      <td>BISA COD | NEW Taplak Meja Anti Air ukuran leb...</td>\n",
              "      <td>https://www.lazada.co.id/products/bisa-cod-new...</td>\n",
              "      <td>25753</td>\n",
              "      <td>bukalapak</td>\n",
              "      <td>5.0</td>\n",
              "      <td>Meja Ruang Makan</td>\n",
              "    </tr>\n",
              "  </tbody>\n",
              "</table>\n",
              "<p>13590 rows × 7 columns</p>\n",
              "</div>"
            ],
            "text/plain": [
              "                                                   image  ...                 category\n",
              "0      https://images.tokopedia.net/img/cache/200-squ...  ...  Alat Pemotong Serbaguna\n",
              "1      https://images.tokopedia.net/img/cache/200-squ...  ...  Alat Pemotong Serbaguna\n",
              "2      https://images.tokopedia.net/img/cache/200-squ...  ...  Alat Pemotong Serbaguna\n",
              "3      https://images.tokopedia.net/img/cache/200-squ...  ...  Alat Pemotong Serbaguna\n",
              "4      https://images.tokopedia.net/img/cache/200-squ...  ...  Alat Pemotong Serbaguna\n",
              "...                                                  ...  ...                      ...\n",
              "13585                                                     ...         Meja Ruang Makan\n",
              "13586                                                     ...         Meja Ruang Makan\n",
              "13587                                                     ...         Meja Ruang Makan\n",
              "13588                                                     ...         Meja Ruang Makan\n",
              "13589                                                     ...         Meja Ruang Makan\n",
              "\n",
              "[13590 rows x 7 columns]"
            ]
          },
          "metadata": {
            "tags": []
          },
          "execution_count": 71
        }
      ]
    }
  ]
}