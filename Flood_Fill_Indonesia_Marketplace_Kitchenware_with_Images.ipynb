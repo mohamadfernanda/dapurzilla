{
  "nbformat": 4,
  "nbformat_minor": 0,
  "metadata": {
    "colab": {
      "name": "Flood Fill Indonesia Marketplace Kitchenware with Images.ipynb",
      "provenance": []
    },
    "kernelspec": {
      "name": "python3",
      "display_name": "Python 3"
    },
    "language_info": {
      "name": "python"
    }
  },
  "cells": [
    {
      "cell_type": "markdown",
      "metadata": {
        "id": "LVfXH6jDNamT"
      },
      "source": [
        "# Flood Fill Indonesia Marketplace Kitchenware with Images"
      ]
    },
    {
      "cell_type": "markdown",
      "metadata": {
        "id": "8S7C1wJGMI_7"
      },
      "source": [
        "### Preparation"
      ]
    },
    {
      "cell_type": "code",
      "metadata": {
        "colab": {
          "base_uri": "https://localhost:8080/"
        },
        "id": "FRI78U0Gq8Gx",
        "outputId": "161c4b70-70df-4ccd-c38a-2d66047d80cc"
      },
      "source": [
        "!pip install jellyfish"
      ],
      "execution_count": 212,
      "outputs": [
        {
          "output_type": "stream",
          "text": [
            "Requirement already satisfied: jellyfish in /usr/local/lib/python3.7/dist-packages (0.8.2)\n"
          ],
          "name": "stdout"
        }
      ]
    },
    {
      "cell_type": "code",
      "metadata": {
        "id": "h4YQ48uijYSC"
      },
      "source": [
        "import jellyfish\n",
        "import pandas as pd\n",
        "from difflib import SequenceMatcher\n",
        "import math"
      ],
      "execution_count": 213,
      "outputs": []
    },
    {
      "cell_type": "code",
      "metadata": {
        "colab": {
          "base_uri": "https://localhost:8080/"
        },
        "id": "k7jyOPaVj5Lv",
        "outputId": "cff38142-5271-4152-e8af-39025c7f3d1c"
      },
      "source": [
        "df = pd.read_csv('indonesia_marketplace_kitchenware.csv')\n",
        "pd.isna(df['image'].values).sum()"
      ],
      "execution_count": 214,
      "outputs": [
        {
          "output_type": "execute_result",
          "data": {
            "text/plain": [
              "19065"
            ]
          },
          "metadata": {
            "tags": []
          },
          "execution_count": 214
        }
      ]
    },
    {
      "cell_type": "code",
      "metadata": {
        "id": "KQeGSd0JkCgE"
      },
      "source": [
        "kitchenwares = df.to_dict(orient='records')\n",
        "# kitchenwares[:10]"
      ],
      "execution_count": 215,
      "outputs": []
    },
    {
      "cell_type": "markdown",
      "metadata": {
        "id": "4U1_A2VSkWSI"
      },
      "source": [
        "### Flood-fill"
      ]
    },
    {
      "cell_type": "markdown",
      "metadata": {
        "id": "lWYdZmpTMN7O"
      },
      "source": [
        "The objective here is to fill the products that has no image with image that exist on products with image.\n",
        "\n",
        "The way we do this is by separating the products with image and the products without image. Each product without image will be calculated on how similar the title is with the one with image. The most similar product title with image will then be taken as reference, and fill the product without image with their image.\n",
        "\n",
        "We do it to all products, hence called; flood fill"
      ]
    },
    {
      "cell_type": "code",
      "metadata": {
        "colab": {
          "base_uri": "https://localhost:8080/"
        },
        "id": "5MEjCLLMwsls",
        "outputId": "eac75af8-bf8d-4115-df8e-7f301541c244"
      },
      "source": [
        "# separate data\n",
        "kitchenwares_with_image = []\n",
        "kitchenwares_without_image = []\n",
        "for kitchenware in kitchenwares:\n",
        "  if pd.isna(kitchenware['image']):\n",
        "    temp = kitchenware\n",
        "    temp['similarity'] = 0.0\n",
        "    kitchenwares_without_image.append(temp)\n",
        "  else:\n",
        "    temp = kitchenware\n",
        "    temp['similarity'] = 1.0\n",
        "    kitchenwares_with_image.append(temp)\n",
        "\n",
        "print(len(kitchenwares_with_image))\n",
        "print(len(kitchenwares_without_image))"
      ],
      "execution_count": 216,
      "outputs": [
        {
          "output_type": "stream",
          "text": [
            "560\n",
            "19065\n"
          ],
          "name": "stdout"
        }
      ]
    },
    {
      "cell_type": "code",
      "metadata": {
        "id": "PhOaaZd4xegS"
      },
      "source": [
        "# flood fill\n",
        "for kitchenware_without_image in kitchenwares_without_image:\n",
        "  for kitchenware_with_image in kitchenwares_with_image:\n",
        "    if kitchenware_without_image['category'] != kitchenware_with_image['category']:\n",
        "      continue\n",
        "    similarity_score = jellyfish.jaro_similarity(kitchenware_without_image['title'], kitchenware_with_image['title'])\n",
        "    if similarity_score > kitchenware_without_image['similarity']:\n",
        "      kitchenware_without_image['image'] = kitchenware_with_image['image']\n",
        "      kitchenware_without_image['similarity'] = similarity_score"
      ],
      "execution_count": 217,
      "outputs": []
    },
    {
      "cell_type": "code",
      "metadata": {
        "id": "9jU42mkVDmgg"
      },
      "source": [
        "# combine\n",
        "kitchenwares_combined = []\n",
        "for kitchenware in kitchenwares_without_image:\n",
        "  kitchenwares_combined.append(kitchenware)\n",
        "for kitchenware in kitchenwares_with_image:\n",
        "  kitchenwares_combined.append(kitchenware)"
      ],
      "execution_count": 218,
      "outputs": []
    },
    {
      "cell_type": "code",
      "metadata": {
        "colab": {
          "base_uri": "https://localhost:8080/"
        },
        "id": "ENgfwhIIoFHN",
        "outputId": "cd9020eb-699a-41bb-9178-4a29a4b69507"
      },
      "source": [
        "# clean and transform to table\n",
        "new_df = pd.DataFrame.from_records(kitchenwares_combined)\n",
        "new_df = new_df.drop(['similarity'], axis=1)\n",
        "pd.isna(new_df['image'].values).sum()"
      ],
      "execution_count": 222,
      "outputs": [
        {
          "output_type": "execute_result",
          "data": {
            "text/plain": [
              "0"
            ]
          },
          "metadata": {
            "tags": []
          },
          "execution_count": 222
        }
      ]
    },
    {
      "cell_type": "code",
      "metadata": {
        "id": "0P5t4GJWusK4"
      },
      "source": [
        "#export to csv\n",
        "new_df.to_csv('indonesia_marketplace_kitchenware_flood_fill.csv', index=False)"
      ],
      "execution_count": 224,
      "outputs": []
    }
  ]
}